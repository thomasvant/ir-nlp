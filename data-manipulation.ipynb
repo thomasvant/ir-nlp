{
 "cells": [
  {
   "cell_type": "code",
   "execution_count": null,
   "id": "baf7798b",
   "metadata": {},
   "outputs": [],
   "source": [
    "! pip install pandas tqdm nltk matplotlib"
   ]
  },
  {
   "cell_type": "code",
   "execution_count": 3,
   "id": "1f8790a4",
   "metadata": {
    "scrolled": true
   },
   "outputs": [
    {
     "name": "stderr",
     "output_type": "stream",
     "text": [
      "[nltk_data] Downloading package punkt to\n",
      "[nltk_data]     /Users/thomasvant/nltk_data...\n",
      "[nltk_data]   Package punkt is already up-to-date!\n"
     ]
    }
   ],
   "source": [
    "import pandas as pd\n",
    "import nltk\n",
    "import matplotlib as mpl \n",
    "import matplotlib.pyplot as plt \n",
    "from tqdm import tqdm\n",
    "\n",
    "nltk.download('punkt')\n",
    "tqdm.pandas()\n",
    "\n",
    "train_stances = pd.read_csv('train_stances.csv', index_col=\"Body ID\")\n",
    "train_bodies = pd.read_csv('train_bodies.csv', index_col=\"Body ID\")\n",
    "\n",
    "test_stances = pd.read_csv('competition_test_stances.csv', index_col=\"Body ID\")\n",
    "test_bodies = pd.read_csv('competition_test_bodies.csv', index_col=\"Body ID\")"
   ]
  },
  {
   "cell_type": "code",
   "execution_count": 4,
   "id": "cf4b0da3",
   "metadata": {},
   "outputs": [],
   "source": [
    "# XSum\n",
    "train_bodies_xsum = pd.read_csv(f'train_bodies_google_pegasus-xsum.csv', index_col=\"Body ID\")\n",
    "test_bodies_xsum = pd.read_csv(f'test_bodies_google_pegasus-xsum.csv', index_col=\"Body ID\")\n",
    "\n",
    "# CNN/DailyNews\n",
    "train_bodies_cnn_dailymail = pd.read_csv(f'train_bodies_google_pegasus-cnn_dailymail.csv', index_col=\"Body ID\")\n",
    "test_bodies_cnn_dailymail = pd.read_csv(f'test_bodies_google_pegasus-cnn_dailymail.csv', index_col=\"Body ID\")\n",
    "\n",
    "# Newsroom\n",
    "train_bodies_newsroom = pd.read_csv(f'train_bodies_google_pegasus-newsroom.csv', index_col=\"Body ID\")\n",
    "test_bodies_newsroom = pd.read_csv(f'test_bodies_google_pegasus-newsroom.csv', index_col=\"Body ID\")\n",
    "\n",
    "# Multi-News\n",
    "train_bodies_multi_news = pd.read_csv(f'train_bodies_google_pegasus-multi_news.csv', index_col=\"Body ID\")\n",
    "test_bodies_multi_news = pd.read_csv(f'test_bodies_google_pegasus-multi_news.csv', index_col=\"Body ID\")"
   ]
  },
  {
   "cell_type": "markdown",
   "id": "dd4c173b",
   "metadata": {},
   "source": [
    "# Reduction calculation"
   ]
  },
  {
   "cell_type": "code",
   "execution_count": 5,
   "id": "6ec684c7",
   "metadata": {},
   "outputs": [],
   "source": [
    "def count(df):\n",
    "    return df[\"articleBody\"].progress_apply(lambda x: len(nltk.word_tokenize(x)))"
   ]
  },
  {
   "cell_type": "markdown",
   "id": "2715a2f0",
   "metadata": {},
   "source": [
    "## Train data"
   ]
  },
  {
   "cell_type": "code",
   "execution_count": 6,
   "id": "18700965",
   "metadata": {},
   "outputs": [
    {
     "name": "stderr",
     "output_type": "stream",
     "text": [
      "100%|██████████████████████████████████████| 1683/1683 [00:02<00:00, 692.27it/s]\n",
      "100%|████████████████████████████████████| 1683/1683 [00:00<00:00, 12305.69it/s]\n",
      "100%|█████████████████████████████████████| 1683/1683 [00:00<00:00, 6160.91it/s]\n"
     ]
    }
   ],
   "source": [
    "count_df_train = count(train_bodies)\n",
    "count_df_train_xsum = count(train_bodies_xsum)\n",
    "count_df_train_cnn_dailymail = count(train_bodies_cnn_dailymail)\n",
    "count_df_train_newsroom = count(train_bodies_newsroom)\n",
    "count_df_train_multi_news = count(train_bodies_multi_news)"
   ]
  },
  {
   "cell_type": "code",
   "execution_count": 7,
   "id": "8494cd28",
   "metadata": {},
   "outputs": [],
   "source": [
    "reduction_df_train_xsum = count_df_train_xsum / count_df_train\n",
    "reduction_df_train_cnn_dailymail = count_df_train_cnn_dailymail / count_df_train\n",
    "reduction_df_train_newsroom = count_df_train_newsroom / count_df_train\n",
    "reduction_df_train_multi_news = count_df_train_multi_news / count_df_train"
   ]
  },
  {
   "cell_type": "code",
   "execution_count": 8,
   "id": "3735e5a5",
   "metadata": {},
   "outputs": [
    {
     "data": {
      "text/plain": [
       "False    1649\n",
       "True       34\n",
       "Name: articleBody, dtype: int64"
      ]
     },
     "execution_count": 8,
     "metadata": {},
     "output_type": "execute_result"
    }
   ],
   "source": [
    "(reduction_df_train_xsum > 1.0).value_counts()"
   ]
  },
  {
   "cell_type": "code",
   "execution_count": 9,
   "id": "e5ff7049",
   "metadata": {},
   "outputs": [
    {
     "data": {
      "text/plain": [
       "False    1622\n",
       "True       61\n",
       "Name: articleBody, dtype: int64"
      ]
     },
     "execution_count": 9,
     "metadata": {},
     "output_type": "execute_result"
    }
   ],
   "source": [
    "(reduction_df_train_cnn_dailymail > 1.0).value_counts()"
   ]
  },
  {
   "cell_type": "code",
   "execution_count": null,
   "id": "c1b88076",
   "metadata": {},
   "outputs": [],
   "source": [
    "(reduction_df_train_newsroom > 1.0).value_counts()"
   ]
  },
  {
   "cell_type": "code",
   "execution_count": null,
   "id": "e4d0fc61",
   "metadata": {},
   "outputs": [],
   "source": [
    "(reduction_df_train_multi_news > 1.0).value_counts()"
   ]
  },
  {
   "cell_type": "code",
   "execution_count": null,
   "id": "4ae89d38",
   "metadata": {},
   "outputs": [],
   "source": [
    "train_bodies_xsum[reduction_df_train_xsum > 1.0] = train_bodies[reduction_df_train_xsum > 1.0]\n",
    "train_bodies_cnn_dailymail[reduction_df_train_cnn_dailymail > 1.0] = train_bodies[reduction_df_train_cnn_dailymail > 1.0]\n",
    "train_bodies_newsroom[reduction_df_train_newsroom > 1.0] = train_bodies[reduction_df_train_newsroom > 1.0]\n",
    "train_bodies_multi_news[reduction_df_train_multi_news > 1.0] = train_bodies[reduction_df_train_multi_news > 1.0]"
   ]
  },
  {
   "cell_type": "code",
   "execution_count": null,
   "id": "b1961f1b",
   "metadata": {},
   "outputs": [],
   "source": [
    "train_bodies_xsum.to_csv(\"train_bodies_xsum_cleaned\")\n",
    "train_bodies_cnn_dailymail.to_csv(\"train_bodies_cnn_dailymail_cleaned\")\n",
    "train_bodies_newsroom.to_csv(\"train_bodies_newsroom_cleaned\")\n",
    "train_bodies_multi_news.to_csv(\"train_bodies_multi_news_cleaned\")"
   ]
  },
  {
   "cell_type": "markdown",
   "id": "c4dd3e5f",
   "metadata": {},
   "source": [
    "## Test data"
   ]
  },
  {
   "cell_type": "code",
   "execution_count": null,
   "id": "b53ae749",
   "metadata": {},
   "outputs": [],
   "source": [
    "count_df_test = count(test_bodies)\n",
    "count_df_test_xsum = count(test_bodies_xsum)\n",
    "count_df_test_cnn_dailymail = count(test_bodies_cnn_dailymail)\n",
    "count_df_test_newsroom = count(test_bodies_newsroom)\n",
    "count_df_test_multi_news = count(test_bodies_multi_news)"
   ]
  },
  {
   "cell_type": "code",
   "execution_count": null,
   "id": "6d2ebe3e",
   "metadata": {},
   "outputs": [],
   "source": [
    "reduction_df_test_xsum = count_df_test_xsum / count_df_test\n",
    "reduction_df_test_cnn_dailymail = count_df_test_cnn_dailymail / count_df_test\n",
    "reduction_df_test_newsroom = count_df_test_newsroom / count_df_test\n",
    "reduction_df_test_multi_news = count_df_test_multi_news / count_df_test"
   ]
  },
  {
   "cell_type": "code",
   "execution_count": null,
   "id": "4da25519",
   "metadata": {},
   "outputs": [],
   "source": [
    "(reduction_df_test_xsum > 1.0).value_counts()"
   ]
  },
  {
   "cell_type": "code",
   "execution_count": null,
   "id": "733c2246",
   "metadata": {},
   "outputs": [],
   "source": [
    "(reduction_df_test_cnn_dailymail > 1.0).value_counts()"
   ]
  },
  {
   "cell_type": "code",
   "execution_count": null,
   "id": "aa6bdc33",
   "metadata": {},
   "outputs": [],
   "source": [
    "(reduction_df_test_newsroom > 1.0).value_counts()"
   ]
  },
  {
   "cell_type": "code",
   "execution_count": null,
   "id": "4852c7b1",
   "metadata": {},
   "outputs": [],
   "source": [
    "(reduction_df_test_multi_news > 1.0).value_counts()"
   ]
  },
  {
   "cell_type": "code",
   "execution_count": null,
   "id": "78ac933b",
   "metadata": {},
   "outputs": [],
   "source": [
    "test_bodies_xsum[reduction_df_test_xsum > 1.0] = train_bodies[reduction_df_test_xsum > 1.0]\n",
    "test_bodies_cnn_dailymail[reduction_df_test_cnn_dailymail > 1.0] = train_bodies[reduction_df_test_cnn_dailymail > 1.0]\n",
    "test_bodies_newsroom[reduction_df_test_newsroom > 1.0] = train_bodies[reduction_df_test_newsroom > 1.0]\n",
    "test_bodies_multi_news[reduction_df_test_multi_news > 1.0] = train_bodies[reduction_df_test_multi_news > 1.0]"
   ]
  },
  {
   "cell_type": "code",
   "execution_count": null,
   "id": "75f0904b",
   "metadata": {},
   "outputs": [],
   "source": [
    "test_bodies_xsum.to_csv(\"test_bodies_xsum_cleaned\")\n",
    "test_bodies_cnn_dailymail.to_csv(\"test_bodies_cnn_dailymail_cleaned\")\n",
    "test_bodies_newsroom.to_csv(\"test_bodies_newsroom_cleaned\")\n",
    "test_bodies_multi_news.to_csv(\"test_bodies_multi_news_cleaned\")"
   ]
  },
  {
   "cell_type": "markdown",
   "id": "9eefe1f5",
   "metadata": {},
   "source": [
    "# Boxplot"
   ]
  },
  {
   "cell_type": "code",
   "execution_count": null,
   "id": "45d1f333",
   "metadata": {},
   "outputs": [],
   "source": [
    "count_df_test = count(test_bodies)\n",
    "count_df_test_xsum = count(test_bodies_xsum)\n",
    "count_df_test_cnn_dailymail = count(test_bodies_cnn_dailymail)\n",
    "count_df_test_newsroom = count(test_bodies_newsroom)\n",
    "count_df_test_multi_news = count(test_bodies_multi_news)"
   ]
  },
  {
   "cell_type": "code",
   "execution_count": null,
   "id": "3c82a612",
   "metadata": {},
   "outputs": [],
   "source": [
    "reduction_df_test_xsum = abs((count_df_test_xsum - count_df_test) / count_df_test)\n",
    "reduction_df_test_cnn_dailymail = abs((count_df_test_cnn_dailymail - count_df_test) / count_df_test)\n",
    "reduction_df_test_newsroom = abs((count_df_test_newsroom - count_df_test) / count_df_test)\n",
    "reduction_df_test_multi_news = abs((count_df_test_multi_news - count_df_test) / count_df_test)"
   ]
  },
  {
   "cell_type": "code",
   "execution_count": 11,
   "id": "32f0c012",
   "metadata": {},
   "outputs": [],
   "source": [
    "plt.rcParams[\"figure.dpi\"] = 300"
   ]
  },
  {
   "cell_type": "code",
   "execution_count": null,
   "id": "ff96adc7",
   "metadata": {},
   "outputs": [],
   "source": [
    "reduction_df_test_xsum.boxplot(\"bodyArticle\")"
   ]
  },
  {
   "cell_type": "code",
   "execution_count": null,
   "id": "6ba3f8b2",
   "metadata": {},
   "outputs": [],
   "source": [
    "reduction_df_test_cnn_dailymail.boxplot(\"bodyArticle\")"
   ]
  },
  {
   "cell_type": "code",
   "execution_count": null,
   "id": "9a8407a9",
   "metadata": {},
   "outputs": [],
   "source": [
    "count_df_test_newsroom.boxplot(\"bodyArticle\")"
   ]
  },
  {
   "cell_type": "code",
   "execution_count": null,
   "id": "0a9cb7d3",
   "metadata": {},
   "outputs": [],
   "source": [
    "count_df_test_multi_news.boxplot(\"bodyArticle\")"
   ]
  }
 ],
 "metadata": {
  "kernelspec": {
   "display_name": "Python 3 (ipykernel)",
   "language": "python",
   "name": "python3"
  },
  "language_info": {
   "codemirror_mode": {
    "name": "ipython",
    "version": 3
   },
   "file_extension": ".py",
   "mimetype": "text/x-python",
   "name": "python",
   "nbconvert_exporter": "python",
   "pygments_lexer": "ipython3",
   "version": "3.9.10"
  }
 },
 "nbformat": 4,
 "nbformat_minor": 5
}
