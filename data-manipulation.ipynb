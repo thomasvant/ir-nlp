{
 "cells": [
  {
   "cell_type": "code",
   "execution_count": null,
   "id": "6491e776",
   "metadata": {},
   "outputs": [],
   "source": [
    "! pip install pandas tqdm nltk matplotlib"
   ]
  },
  {
   "cell_type": "code",
   "execution_count": 112,
   "id": "7e5c01f5",
   "metadata": {
    "scrolled": true
   },
   "outputs": [
    {
     "name": "stderr",
     "output_type": "stream",
     "text": [
      "[nltk_data] Downloading package punkt to\n",
      "[nltk_data]     /Users/thomasvant/nltk_data...\n",
      "[nltk_data]   Package punkt is already up-to-date!\n"
     ]
    }
   ],
   "source": [
    "import pandas as pd\n",
    "import nltk\n",
    "import matplotlib as mpl \n",
    "import matplotlib.pyplot as plt \n",
    "from tqdm import tqdm\n",
    "\n",
    "nltk.download('punkt')\n",
    "tqdm.pandas()\n",
    "\n",
    "train_stances = pd.read_csv('train_stances.csv', index_col=\"Body ID\")\n",
    "train_bodies = pd.read_csv('train_bodies.csv', index_col=\"Body ID\")\n",
    "\n",
    "test_stances = pd.read_csv('competition_test_stances.csv', index_col=\"Body ID\")\n",
    "test_bodies = pd.read_csv('competition_test_bodies.csv', index_col=\"Body ID\")"
   ]
  },
  {
   "cell_type": "code",
   "execution_count": 68,
   "id": "7a886ba1",
   "metadata": {},
   "outputs": [],
   "source": [
    "model = \"xsum\"\n",
    "\n",
    "train_bodies_summary_xsum = pd.read_csv(f'train_bodies_google_pegasus-{model}.csv', index_col=\"Body ID\")\n",
    "test_bodies_summary_xsum = pd.read_csv(f'test_bodies_google_pegasus-{model}.csv', index_col=\"Body ID\")"
   ]
  },
  {
   "cell_type": "code",
   "execution_count": 109,
   "id": "8ddeb106",
   "metadata": {},
   "outputs": [],
   "source": [
    "model = \"cnn_dailymail\"\n",
    "\n",
    "train_bodies_summary_cnn_dailymail = pd.read_csv(f'train_bodies_google_pegasus-{model}.csv', index_col=\"Body ID\")\n",
    "test_bodies_summary_cnn_dailymail = pd.read_csv(f'test_bodies_google_pegasus-{model}.csv', index_col=\"Body ID\")"
   ]
  },
  {
   "cell_type": "markdown",
   "id": "1c3b63c8",
   "metadata": {},
   "source": [
    "# Comparison of datasets"
   ]
  },
  {
   "cell_type": "code",
   "execution_count": 69,
   "id": "fae355ee",
   "metadata": {},
   "outputs": [
    {
     "data": {
      "text/html": [
       "<div>\n",
       "<style scoped>\n",
       "    .dataframe tbody tr th:only-of-type {\n",
       "        vertical-align: middle;\n",
       "    }\n",
       "\n",
       "    .dataframe tbody tr th {\n",
       "        vertical-align: top;\n",
       "    }\n",
       "\n",
       "    .dataframe thead th {\n",
       "        text-align: right;\n",
       "    }\n",
       "</style>\n",
       "<table border=\"1\" class=\"dataframe\">\n",
       "  <thead>\n",
       "    <tr style=\"text-align: right;\">\n",
       "      <th></th>\n",
       "      <th>articleBody</th>\n",
       "    </tr>\n",
       "    <tr>\n",
       "      <th>Body ID</th>\n",
       "      <th></th>\n",
       "    </tr>\n",
       "  </thead>\n",
       "  <tbody>\n",
       "    <tr>\n",
       "      <th>0</th>\n",
       "      <td>A small meteorite crashed into a wooded area i...</td>\n",
       "    </tr>\n",
       "    <tr>\n",
       "      <th>4</th>\n",
       "      <td>A woman dressed in a hazmat suit was spotted w...</td>\n",
       "    </tr>\n",
       "    <tr>\n",
       "      <th>5</th>\n",
       "      <td>It's 20 years old.</td>\n",
       "    </tr>\n",
       "    <tr>\n",
       "      <th>6</th>\n",
       "      <td>The Islamic State of Iraq and the Levant, also...</td>\n",
       "    </tr>\n",
       "    <tr>\n",
       "      <th>7</th>\n",
       "      <td>At least 25 suspected Boko Haram insurgents we...</td>\n",
       "    </tr>\n",
       "    <tr>\n",
       "      <th>...</th>\n",
       "      <td>...</td>\n",
       "    </tr>\n",
       "    <tr>\n",
       "      <th>2528</th>\n",
       "      <td>Three British men waging jihad in the Middle E...</td>\n",
       "    </tr>\n",
       "    <tr>\n",
       "      <th>2529</th>\n",
       "      <td>Microsoft is the first company in Silicon Vall...</td>\n",
       "    </tr>\n",
       "    <tr>\n",
       "      <th>2530</th>\n",
       "      <td>A top military official in Nigeria has reporte...</td>\n",
       "    </tr>\n",
       "    <tr>\n",
       "      <th>2531</th>\n",
       "      <td>A Guantanamo Bay prisoner released last year a...</td>\n",
       "    </tr>\n",
       "    <tr>\n",
       "      <th>2532</th>\n",
       "      <td>A pizza delivery man in Michigan got a huge su...</td>\n",
       "    </tr>\n",
       "  </tbody>\n",
       "</table>\n",
       "<p>1683 rows × 1 columns</p>\n",
       "</div>"
      ],
      "text/plain": [
       "                                               articleBody\n",
       "Body ID                                                   \n",
       "0        A small meteorite crashed into a wooded area i...\n",
       "4        A woman dressed in a hazmat suit was spotted w...\n",
       "5                                       It's 20 years old.\n",
       "6        The Islamic State of Iraq and the Levant, also...\n",
       "7        At least 25 suspected Boko Haram insurgents we...\n",
       "...                                                    ...\n",
       "2528     Three British men waging jihad in the Middle E...\n",
       "2529     Microsoft is the first company in Silicon Vall...\n",
       "2530     A top military official in Nigeria has reporte...\n",
       "2531     A Guantanamo Bay prisoner released last year a...\n",
       "2532     A pizza delivery man in Michigan got a huge su...\n",
       "\n",
       "[1683 rows x 1 columns]"
      ]
     },
     "execution_count": 69,
     "metadata": {},
     "output_type": "execute_result"
    }
   ],
   "source": [
    "train_bodies_summary_xsum"
   ]
  },
  {
   "cell_type": "code",
   "execution_count": 100,
   "id": "853428d1",
   "metadata": {},
   "outputs": [],
   "source": [
    "train_bodies[\"XSum\"] = train_bodies_summary_xsum[\"articleBody\"]\n",
    "train_bodies[\"CNN/DailyMail\"] = train_bodies_summary_cnn_dailymail[\"articleBody\"]\n",
    "train_bodies.rename(columns={\"articleBody\":\"Original text\"}, inplace=True)"
   ]
  },
  {
   "cell_type": "code",
   "execution_count": 107,
   "id": "c6663a3b",
   "metadata": {},
   "outputs": [
    {
     "name": "stdout",
     "output_type": "stream",
     "text": [
      "\\begin{tabular}{ll}\n",
      "Body ID & 7 \\\\\n",
      "Original text & At least 25 suspected Boko Haram insurgents were killed in clashes between soldiers and the Islamist militants in northeast Nigeria and five civilians were killed in fighting elsewhere in the region, a military source and residents said on Monday.\n",
      "\n",
      "A ceasefire agreement between Boko Haram and the Nigerian government was expected to lead to the liberation of more than 200 schoolgirls kidnapped by the militants six months ago, and talks were due to continue in neighbouring Chad on Monday.\n",
      "\n",
      "Boko Haram has not confirmed the truce and there have been at least six attacks over the weekend – blamed by security sources on the insurgents – that have killed several dozen people since the announcement of the ceasefire.\n",
      "\n",
      "A government spokesman has said that the fighting on Sunday may be the work of criminal gangs in the lawless region.\n",
      "\n",
      "An army officer, who requested anonymity, said the militants tried to enter the town of Damboa late on Sunday through Alagarno, a Boko Haram hideout, but soldiers fought them off. “Our men gunned down 25 of the insurgents because they would have entered Damboa and unleashed more terror on the town that is just picking up from its ruins,” the officer said.\n",
      "\n",
      "He said an armoured vehicle and some arms were recovered from the insurgents.\n",
      "\n",
      "Damboa, a garrison town near the border with Cameroon, has been the site of fierce fighting between the militants and Nigerian forces for months. The insurgents sacked the town in July but were driven out by an army counter-offensive.\n",
      "\n",
      "A member of pro-government Civilian Joint Task Force vigilantes, Mohammed Haruna, said of clashes on Sunday, “Two of our members came to [the town of] Biu this morning from Damboa and said the soldiers engaged Boko Haram yesterday and the battle lasted till about midnight.”\n",
      "\n",
      "Separately, Maiduguri resident Andrew Tada, said the insurgents killed five people in Gava, a hilly town in Gwoza Local Government Area not far from Damboa.\n",
      "\n",
      "Tada said his brother in Gava was lucky to have escaped to the top of a mountain.\n",
      "\n",
      "“My brother is still there now with other relatives, women and children,” he told Reuters after speaking with his brother on the phone.\n",
      "\n",
      "“They [the militants] came yesterday [Sunday] while people were scouting for food at the foot of the mountain. When the insurgents sighted our people, they pursued them and slaughtered five,” Tada said. \\\\\n",
      "XSum & At least 25 suspected Boko Haram insurgents were killed in clashes between soldiers and the Islamist militants in northeast Nigeria and five civilians were killed in fighting elsewhere in the region, a military source and residents said on Monday. \\\\\n",
      "CNN/DailyMail & A ceasefire agreement between Boko Haram and the Nigerian government was expected to lead to the liberation of more than 200 schoolgirls kidnapped by the militants six months ago.<n>Boko Haram has not confirmed the truce.<n>There have been at least six attacks over the weekend – blamed by security sources on the insurgents – that have killed several dozen people since the announcement of the ceasefire. \\\\\n",
      "\\end{tabular}\n",
      "\n"
     ]
    }
   ],
   "source": [
    "print(train_bodies.loc[[7]].transpose().style.to_latex())"
   ]
  },
  {
   "cell_type": "code",
   "execution_count": 95,
   "id": "21616e8d",
   "metadata": {},
   "outputs": [
    {
     "name": "stdout",
     "output_type": "stream",
     "text": [
      "\\begin{tabular}{ll}\n",
      "\\toprule\n",
      "Body ID &                                                  6 \\\\\n",
      "\\midrule\n",
      "articleBody   &  Posting photos of a gun-toting child online, I... \\\\\n",
      "XSum          &  The Islamic State of Iraq and the Levant, also... \\\\\n",
      "CNN/DailyMail &  ISIS supporters announced that the group’s you... \\\\\n",
      "\\bottomrule\n",
      "\\end{tabular}\n",
      "\n"
     ]
    },
    {
     "name": "stderr",
     "output_type": "stream",
     "text": [
      "/var/folders/rz/8k861z6j0_l46v42bkk8qf1m0000gn/T/ipykernel_25435/3973549736.py:1: FutureWarning: In future versions `DataFrame.to_latex` is expected to utilise the base implementation of `Styler.to_latex` for formatting and rendering. The arguments signature may therefore change. It is recommended instead to use `DataFrame.style.to_latex` which also contains additional functionality.\n",
      "  print(train_bodies.loc[[6]].transpose().to_latex())\n"
     ]
    }
   ],
   "source": [
    "print(train_bodies.loc[[6]].transpose().to_latex())"
   ]
  },
  {
   "cell_type": "markdown",
   "id": "63c97456",
   "metadata": {},
   "source": [
    "# Reduction calculation"
   ]
  },
  {
   "cell_type": "code",
   "execution_count": 113,
   "id": "8c12e7d9",
   "metadata": {},
   "outputs": [
    {
     "name": "stderr",
     "output_type": "stream",
     "text": [
      "100%|██████████████████████████████████████| 1683/1683 [00:02<00:00, 805.47it/s]\n",
      "100%|███████████████████████████████████████| 904/904 [00:00<00:00, 7292.38it/s]\n"
     ]
    }
   ],
   "source": [
    "count = train_bodies[\"articleBody\"].progress_apply(lambda x: len(nltk.word_tokenize(x)))\n",
    "count_summary = test_bodies_summary_cnn_dailymail[\"articleBody\"].progress_apply(lambda x: len(nltk.word_tokenize(x)))"
   ]
  },
  {
   "cell_type": "code",
   "execution_count": 114,
   "id": "ed9e65fd",
   "metadata": {},
   "outputs": [],
   "source": [
    "reduction = count_summary / count"
   ]
  },
  {
   "cell_type": "code",
   "execution_count": 55,
   "id": "04cfdaa5",
   "metadata": {},
   "outputs": [],
   "source": [
    "new_train_bodies_summary = train_bodies_summary"
   ]
  },
  {
   "cell_type": "code",
   "execution_count": null,
   "id": "4b0e27a7",
   "metadata": {},
   "outputs": [],
   "source": [
    "new_train_bodies_summary[reduction > 1.0] = train_bodies[reduction > 1.0]"
   ]
  },
  {
   "cell_type": "code",
   "execution_count": 59,
   "id": "1ed5b9f6",
   "metadata": {},
   "outputs": [
    {
     "data": {
      "text/html": [
       "<div>\n",
       "<style scoped>\n",
       "    .dataframe tbody tr th:only-of-type {\n",
       "        vertical-align: middle;\n",
       "    }\n",
       "\n",
       "    .dataframe tbody tr th {\n",
       "        vertical-align: top;\n",
       "    }\n",
       "\n",
       "    .dataframe thead th {\n",
       "        text-align: right;\n",
       "    }\n",
       "</style>\n",
       "<table border=\"1\" class=\"dataframe\">\n",
       "  <thead>\n",
       "    <tr style=\"text-align: right;\">\n",
       "      <th></th>\n",
       "      <th>articleBody</th>\n",
       "    </tr>\n",
       "    <tr>\n",
       "      <th>Body ID</th>\n",
       "      <th></th>\n",
       "    </tr>\n",
       "  </thead>\n",
       "  <tbody>\n",
       "    <tr>\n",
       "      <th>144</th>\n",
       "      <td>There have been reports that iOS 8 preferences...</td>\n",
       "    </tr>\n",
       "    <tr>\n",
       "      <th>347</th>\n",
       "      <td>UK aid worker Henning has reportedly been trie...</td>\n",
       "    </tr>\n",
       "    <tr>\n",
       "      <th>368</th>\n",
       "      <td>#ISIS beheads photojournalist James Wright Fol...</td>\n",
       "    </tr>\n",
       "    <tr>\n",
       "      <th>442</th>\n",
       "      <td>Rumors have been circulating that the Apple Wa...</td>\n",
       "    </tr>\n",
       "    <tr>\n",
       "      <th>581</th>\n",
       "      <td>UK Prime Minister David Cameron condemned the ...</td>\n",
       "    </tr>\n",
       "    <tr>\n",
       "      <th>...</th>\n",
       "      <td>...</td>\n",
       "    </tr>\n",
       "    <tr>\n",
       "      <th>2412</th>\n",
       "      <td>Reporting in the Telegraph states that US dron...</td>\n",
       "    </tr>\n",
       "    <tr>\n",
       "      <th>2424</th>\n",
       "      <td>A TYPE of super-strong magic mushroom has been...</td>\n",
       "    </tr>\n",
       "    <tr>\n",
       "      <th>2440</th>\n",
       "      <td>UK Prime Minister Cameron confirmed Haines' de...</td>\n",
       "    </tr>\n",
       "    <tr>\n",
       "      <th>2443</th>\n",
       "      <td>There have been reports of predator drones bei...</td>\n",
       "    </tr>\n",
       "    <tr>\n",
       "      <th>2476</th>\n",
       "      <td>Apple is continuing to experience \"Hairgate\" p...</td>\n",
       "    </tr>\n",
       "  </tbody>\n",
       "</table>\n",
       "<p>61 rows × 1 columns</p>\n",
       "</div>"
      ],
      "text/plain": [
       "                                               articleBody\n",
       "Body ID                                                   \n",
       "144      There have been reports that iOS 8 preferences...\n",
       "347      UK aid worker Henning has reportedly been trie...\n",
       "368      #ISIS beheads photojournalist James Wright Fol...\n",
       "442      Rumors have been circulating that the Apple Wa...\n",
       "581      UK Prime Minister David Cameron condemned the ...\n",
       "...                                                    ...\n",
       "2412     Reporting in the Telegraph states that US dron...\n",
       "2424     A TYPE of super-strong magic mushroom has been...\n",
       "2440     UK Prime Minister Cameron confirmed Haines' de...\n",
       "2443     There have been reports of predator drones bei...\n",
       "2476     Apple is continuing to experience \"Hairgate\" p...\n",
       "\n",
       "[61 rows x 1 columns]"
      ]
     },
     "execution_count": 59,
     "metadata": {},
     "output_type": "execute_result"
    }
   ],
   "source": [
    "new_train_bodies_summary[new_train_bodies_summary[\"articleBody\"] == train_bodies[\"articleBody\"]]"
   ]
  },
  {
   "cell_type": "code",
   "execution_count": 60,
   "id": "f3ab6d23",
   "metadata": {},
   "outputs": [
    {
     "name": "stderr",
     "output_type": "stream",
     "text": [
      "100%|█████████████████████████████████████| 1683/1683 [00:00<00:00, 5739.62it/s]\n"
     ]
    }
   ],
   "source": [
    "new_count_summary = new_train_bodies_summary[\"articleBody\"].progress_apply(lambda x: len(nltk.word_tokenize(x)))"
   ]
  },
  {
   "cell_type": "code",
   "execution_count": 63,
   "id": "50be479c",
   "metadata": {},
   "outputs": [
    {
     "data": {
      "text/plain": [
       "<AxesSubplot:>"
      ]
     },
     "execution_count": 63,
     "metadata": {},
     "output_type": "execute_result"
    },
    {
     "data": {
      "image/png": "[encoded data removed]",
      "text/plain": [
       "<Figure size 432x288 with 1 Axes>"
      ]
     },
     "metadata": {
      "needs_background": "light"
     },
     "output_type": "display_data"
    }
   ],
   "source": [
    "abs((new_count_summary - count) / count).plot.box()"
   ]
  },
  {
   "cell_type": "code",
   "execution_count": 108,
   "id": "b0a8f166",
   "metadata": {},
   "outputs": [],
   "source": [
    "new_train_bodies_summary.to_csv(\"train_bodies_google_pegasus-cnn_dailymail_cleaned.csv\")"
   ]
  }
 ],
 "metadata": {
  "kernelspec": {
   "display_name": "Python 3 (ipykernel)",
   "language": "python",
   "name": "python3"
  },
  "language_info": {
   "codemirror_mode": {
    "name": "ipython",
    "version": 3
   },
   "file_extension": ".py",
   "mimetype": "text/x-python",
   "name": "python",
   "nbconvert_exporter": "python",
   "pygments_lexer": "ipython3",
   "version": "3.9.10"
  }
 },
 "nbformat": 4,
 "nbformat_minor": 5
}
