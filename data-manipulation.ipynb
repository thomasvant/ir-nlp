{
 "cells": [
  {
   "cell_type": "code",
   "execution_count": null,
   "id": "baf7798b",
   "metadata": {},
   "outputs": [],
   "source": [
    "! pip install pandas tqdm nltk matplotlib"
   ]
  },
  {
   "cell_type": "code",
   "execution_count": 112,
   "id": "1f8790a4",
   "metadata": {
    "scrolled": true
   },
   "outputs": [
    {
     "name": "stderr",
     "output_type": "stream",
     "text": [
      "[nltk_data] Downloading package punkt to\n",
      "[nltk_data]     /Users/thomasvant/nltk_data...\n",
      "[nltk_data]   Package punkt is already up-to-date!\n"
     ]
    }
   ],
   "source": [
    "import pandas as pd\n",
    "import nltk\n",
    "import matplotlib as mpl \n",
    "import matplotlib.pyplot as plt \n",
    "from tqdm import tqdm\n",
    "\n",
    "nltk.download('punkt')\n",
    "tqdm.pandas()\n",
    "\n",
    "train_stances = pd.read_csv('train_stances.csv', index_col=\"Body ID\")\n",
    "train_bodies = pd.read_csv('train_bodies.csv', index_col=\"Body ID\")\n",
    "\n",
    "test_stances = pd.read_csv('competition_test_stances.csv', index_col=\"Body ID\")\n",
    "test_bodies = pd.read_csv('competition_test_bodies.csv', index_col=\"Body ID\")"
   ]
  },
  {
   "cell_type": "code",
   "execution_count": null,
   "id": "cf4b0da3",
   "metadata": {},
   "outputs": [],
   "source": [
    "# XSum\n",
    "train_bodies_xsum = pd.read_csv(f'train_bodies_google_pegasus-xsum.csv', index_col=\"Body ID\")\n",
    "test_bodies_xsum = pd.read_csv(f'test_bodies_google_pegasus-xsum.csv', index_col=\"Body ID\")\n",
    "\n",
    "# CNN/DailyNews\n",
    "train_bodies_cnn_dailymail = pd.read_csv(f'train_bodies_google_pegasus-cnn_dailymail.csv', index_col=\"Body ID\")\n",
    "test_bodies_cnn_dailymail = pd.read_csv(f'test_bodies_google_pegasus-cnn_dailymail.csv', index_col=\"Body ID\")\n",
    "\n",
    "# Newsroom\n",
    "# train_bodies_newsroom = pd.read_csv(f'train_bodies_google_pegasus-newsroom.csv', index_col=\"Body ID\")\n",
    "# test_bodies_newsroom = pd.read_csv(f'test_bodies_google_pegasus-newsroom.csv', index_col=\"Body ID\")\n",
    "\n",
    "# Multi-News\n",
    "# train_bodies_multi_news = pd.read_csv(f'train_bodies_google_pegasus-multi_news.csv', index_col=\"Body ID\")\n",
    "# test_bodies_multi_news = pd.read_csv(f'test_bodies_google_pegasus-multi_news.csv', index_col=\"Body ID\")"
   ]
  },
  {
   "cell_type": "markdown",
   "id": "dd4c173b",
   "metadata": {},
   "source": [
    "# Reduction calculation"
   ]
  },
  {
   "cell_type": "code",
   "execution_count": 1,
   "id": "6ec684c7",
   "metadata": {},
   "outputs": [],
   "source": [
    "def count(df):\n",
    "    return df[\"articleBody\"].progress_apply(lambda x: len(nltk.word_tokenize(x)))"
   ]
  },
  {
   "cell_type": "code",
   "execution_count": null,
   "id": "18700965",
   "metadata": {},
   "outputs": [],
   "source": [
    "count_df_train = pd.DataFrame()\n",
    "count_df_train[\"Original\"] = count(train_bodies)\n",
    "count_df_train[\"XSum\"] = count(train_bodies_xsum)\n",
    "count_df_train[\"CNN/DailyMail\"] = count(train_bodies_cnn_dailymail)\n",
    "count_df_train[\"NEWSROOM\"] = count(train_bodies_newsroom)\n",
    "count_df_train[\"Multi-News\"] = count(train_bodies_multi_news)"
   ]
  },
  {
   "cell_type": "code",
   "execution_count": 116,
   "id": "8494cd28",
   "metadata": {},
   "outputs": [],
   "source": [
    "reduction_df_train = pd.DataFrame()\n",
    "reduction_df_train[\"XSum\"] = count_df_train[\"XSum\"] / count_df_train[\"Original\"]\n",
    "reduction_df_train[\"CNN/DailyMail\"] = count_df_train[\"CNN/DailyMail\"] / count_df_train[\"Original\"]\n",
    "reduction_df_train[\"NEWSROOM\"] = count_df_train[\"NEWSROOM\"] / count_df_train[\"Original\"]\n",
    "reduction_df_train[\"Multi-News\"] = count_df_train[\"Multi-News\"] / count_df_train[\"Original\"]\n",
    "\n",
    "# REST IS TODO"
   ]
  },
  {
   "cell_type": "code",
   "execution_count": 120,
   "id": "0e18a128",
   "metadata": {},
   "outputs": [],
   "source": [
    "new_train_bodies_summary = test_bodies_summary_cnn_dailymail"
   ]
  },
  {
   "cell_type": "code",
   "execution_count": 121,
   "id": "37231e0a",
   "metadata": {},
   "outputs": [],
   "source": [
    "new_train_bodies_summary[reduction > 1.0] = test_bodies[reduction > 1.0]"
   ]
  },
  {
   "cell_type": "code",
   "execution_count": 123,
   "id": "14a1afa3",
   "metadata": {},
   "outputs": [
    {
     "data": {
      "text/html": [
       "<div>\n",
       "<style scoped>\n",
       "    .dataframe tbody tr th:only-of-type {\n",
       "        vertical-align: middle;\n",
       "    }\n",
       "\n",
       "    .dataframe tbody tr th {\n",
       "        vertical-align: top;\n",
       "    }\n",
       "\n",
       "    .dataframe thead th {\n",
       "        text-align: right;\n",
       "    }\n",
       "</style>\n",
       "<table border=\"1\" class=\"dataframe\">\n",
       "  <thead>\n",
       "    <tr style=\"text-align: right;\">\n",
       "      <th></th>\n",
       "      <th>articleBody</th>\n",
       "    </tr>\n",
       "    <tr>\n",
       "      <th>Body ID</th>\n",
       "      <th></th>\n",
       "    </tr>\n",
       "  </thead>\n",
       "  <tbody>\n",
       "    <tr>\n",
       "      <th>1</th>\n",
       "      <td>Al-Sisi has denied Israeli reports stating tha...</td>\n",
       "    </tr>\n",
       "    <tr>\n",
       "      <th>52</th>\n",
       "      <td>Diane Foley told ABC News that US officials th...</td>\n",
       "    </tr>\n",
       "    <tr>\n",
       "      <th>143</th>\n",
       "      <td>Hong Kong protesters have \"emulated\" the Fergu...</td>\n",
       "    </tr>\n",
       "    <tr>\n",
       "      <th>180</th>\n",
       "      <td>British jihadist al-Britani has reportedly bee...</td>\n",
       "    </tr>\n",
       "    <tr>\n",
       "      <th>192</th>\n",
       "      <td>The US declared the video of Sotloff to be aut...</td>\n",
       "    </tr>\n",
       "    <tr>\n",
       "      <th>...</th>\n",
       "      <td>...</td>\n",
       "    </tr>\n",
       "    <tr>\n",
       "      <th>2460</th>\n",
       "      <td>Egyptian President al-Sisi denied reports that...</td>\n",
       "    </tr>\n",
       "    <tr>\n",
       "      <th>2466</th>\n",
       "      <td>The third breast story is a hoax.</td>\n",
       "    </tr>\n",
       "    <tr>\n",
       "      <th>2505</th>\n",
       "      <td>The Foley family claims the US threatened them...</td>\n",
       "    </tr>\n",
       "    <tr>\n",
       "      <th>2512</th>\n",
       "      <td>White House Chief of Staff Denis McDonough den...</td>\n",
       "    </tr>\n",
       "    <tr>\n",
       "      <th>2516</th>\n",
       "      <td>ISIS in now \"less than 10 miles\" from Baghdad....</td>\n",
       "    </tr>\n",
       "  </tbody>\n",
       "</table>\n",
       "<p>63 rows × 1 columns</p>\n",
       "</div>"
      ],
      "text/plain": [
       "                                               articleBody\n",
       "Body ID                                                   \n",
       "1        Al-Sisi has denied Israeli reports stating tha...\n",
       "52       Diane Foley told ABC News that US officials th...\n",
       "143      Hong Kong protesters have \"emulated\" the Fergu...\n",
       "180      British jihadist al-Britani has reportedly bee...\n",
       "192      The US declared the video of Sotloff to be aut...\n",
       "...                                                    ...\n",
       "2460     Egyptian President al-Sisi denied reports that...\n",
       "2466                     The third breast story is a hoax.\n",
       "2505     The Foley family claims the US threatened them...\n",
       "2512     White House Chief of Staff Denis McDonough den...\n",
       "2516     ISIS in now \"less than 10 miles\" from Baghdad....\n",
       "\n",
       "[63 rows x 1 columns]"
      ]
     },
     "execution_count": 123,
     "metadata": {},
     "output_type": "execute_result"
    }
   ],
   "source": [
    "new_train_bodies_summary[new_train_bodies_summary[\"articleBody\"] == test_bodies[\"articleBody\"]]"
   ]
  },
  {
   "cell_type": "code",
   "execution_count": 60,
   "id": "feaf7f13",
   "metadata": {},
   "outputs": [
    {
     "name": "stderr",
     "output_type": "stream",
     "text": [
      "100%|█████████████████████████████████████| 1683/1683 [00:00<00:00, 5739.62it/s]\n"
     ]
    }
   ],
   "source": [
    "new_count_summary = new_train_bodies_summary[\"articleBody\"].progress_apply(lambda x: len(nltk.word_tokenize(x)))"
   ]
  },
  {
   "cell_type": "code",
   "execution_count": 63,
   "id": "d54758ee",
   "metadata": {},
   "outputs": [
    {
     "data": {
      "text/plain": [
       "<AxesSubplot:>"
      ]
     },
     "execution_count": 63,
     "metadata": {},
     "output_type": "execute_result"
    },
    {
     "data": {
      "image/png": "[encoded data removed]",
      "text/plain": [
       "<Figure size 432x288 with 1 Axes>"
      ]
     },
     "metadata": {
      "needs_background": "light"
     },
     "output_type": "display_data"
    }
   ],
   "source": [
    "abs((new_count_summary - count) / count).plot.box()"
   ]
  },
  {
   "cell_type": "code",
   "execution_count": 124,
   "id": "888e37d6",
   "metadata": {},
   "outputs": [],
   "source": [
    "new_train_bodies_summary.to_csv(\"test_bodies_google_pegasus-cnn_dailymail_cleaned.csv\")"
   ]
  }
 ],
 "metadata": {
  "kernelspec": {
   "display_name": "Python 3 (ipykernel)",
   "language": "python",
   "name": "python3"
  },
  "language_info": {
   "codemirror_mode": {
    "name": "ipython",
    "version": 3
   },
   "file_extension": ".py",
   "mimetype": "text/x-python",
   "name": "python",
   "nbconvert_exporter": "python",
   "pygments_lexer": "ipython3",
   "version": "3.9.10"
  }
 },
 "nbformat": 4,
 "nbformat_minor": 5
}
