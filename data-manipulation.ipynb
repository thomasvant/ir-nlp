{
 "cells": [
  {
   "cell_type": "code",
   "execution_count": null,
   "id": "baf7798b",
   "metadata": {},
   "outputs": [],
   "source": [
    "! pip install pandas tqdm nltk matplotlib"
   ]
  },
  {
   "cell_type": "code",
   "execution_count": 12,
   "id": "1f8790a4",
   "metadata": {
    "scrolled": true
   },
   "outputs": [
    {
     "name": "stderr",
     "output_type": "stream",
     "text": [
      "[nltk_data] Downloading package punkt to\n",
      "[nltk_data]     /Users/thomasvant/nltk_data...\n",
      "[nltk_data]   Package punkt is already up-to-date!\n"
     ]
    }
   ],
   "source": [
    "import pandas as pd\n",
    "import nltk\n",
    "import matplotlib as mpl \n",
    "import matplotlib.pyplot as plt \n",
    "from tqdm import tqdm\n",
    "\n",
    "nltk.download('punkt')\n",
    "tqdm.pandas()\n",
    "\n",
    "train_stances = pd.read_csv('train_stances.csv', index_col=\"Body ID\")\n",
    "train_bodies = pd.read_csv('train_bodies.csv', index_col=\"Body ID\")\n",
    "\n",
    "test_stances = pd.read_csv('competition_test_stances.csv', index_col=\"Body ID\")\n",
    "test_bodies = pd.read_csv('competition_test_bodies.csv', index_col=\"Body ID\")"
   ]
  },
  {
   "cell_type": "code",
   "execution_count": 13,
   "id": "cf4b0da3",
   "metadata": {},
   "outputs": [],
   "source": [
    "# XSum\n",
    "train_bodies_xsum = pd.read_csv(f'train_bodies_google_pegasus-xsum.csv', index_col=\"Body ID\")\n",
    "test_bodies_xsum = pd.read_csv(f'test_bodies_google_pegasus-xsum.csv', index_col=\"Body ID\")\n",
    "\n",
    "# CNN/DailyNews\n",
    "train_bodies_cnn_dailymail = pd.read_csv(f'train_bodies_google_pegasus-cnn_dailymail.csv', index_col=\"Body ID\")\n",
    "test_bodies_cnn_dailymail = pd.read_csv(f'test_bodies_google_pegasus-cnn_dailymail.csv', index_col=\"Body ID\")\n",
    "\n",
    "# Newsroom\n",
    "train_bodies_newsroom = pd.read_csv(f'train_bodies_google_pegasus-newsroom.csv', index_col=\"Body ID\")\n",
    "test_bodies_newsroom = pd.read_csv(f'test_bodies_google_pegasus-newsroom.csv', index_col=\"Body ID\")\n",
    "\n",
    "# Multi-News\n",
    "train_bodies_multi_news = pd.read_csv(f'train_bodies_google_pegasus-multi_news.csv', index_col=\"Body ID\")\n",
    "test_bodies_multi_news = pd.read_csv(f'test_bodies_google_pegasus-multi_news.csv', index_col=\"Body ID\")"
   ]
  },
  {
   "cell_type": "markdown",
   "id": "dd4c173b",
   "metadata": {},
   "source": [
    "# Reduction calculation"
   ]
  },
  {
   "cell_type": "code",
   "execution_count": 23,
   "id": "6ec684c7",
   "metadata": {},
   "outputs": [],
   "source": [
    "def count(df):\n",
    "    return df[\"articleBody\"].progress_apply(count_singular)\n",
    "\n",
    "def count_singular(string):\n",
    "    try:\n",
    "        return len(nltk.word_tokenize(string))\n",
    "    except TypeError:\n",
    "        return 0"
   ]
  },
  {
   "cell_type": "markdown",
   "id": "2715a2f0",
   "metadata": {},
   "source": [
    "## Train data"
   ]
  },
  {
   "cell_type": "code",
   "execution_count": 24,
   "id": "18700965",
   "metadata": {},
   "outputs": [
    {
     "name": "stderr",
     "output_type": "stream",
     "text": [
      "100%|██████████████████████████████████████| 1683/1683 [00:02<00:00, 807.49it/s]\n",
      "100%|████████████████████████████████████| 1683/1683 [00:00<00:00, 14325.34it/s]\n",
      "100%|█████████████████████████████████████| 1683/1683 [00:00<00:00, 7203.46it/s]\n",
      "100%|█████████████████████████████████████| 1683/1683 [00:00<00:00, 4093.14it/s]\n",
      "100%|█████████████████████████████████████| 1683/1683 [00:00<00:00, 3057.09it/s]\n"
     ]
    }
   ],
   "source": [
    "count_df_train = count(train_bodies)\n",
    "count_df_train_xsum = count(train_bodies_xsum)\n",
    "count_df_train_cnn_dailymail = count(train_bodies_cnn_dailymail)\n",
    "count_df_train_newsroom = count(train_bodies_newsroom)\n",
    "count_df_train_multi_news = count(train_bodies_multi_news)"
   ]
  },
  {
   "cell_type": "code",
   "execution_count": 25,
   "id": "8494cd28",
   "metadata": {},
   "outputs": [],
   "source": [
    "reduction_df_train_xsum = count_df_train_xsum / count_df_train\n",
    "reduction_df_train_cnn_dailymail = count_df_train_cnn_dailymail / count_df_train\n",
    "reduction_df_train_newsroom = count_df_train_newsroom / count_df_train\n",
    "reduction_df_train_multi_news = count_df_train_multi_news / count_df_train"
   ]
  },
  {
   "cell_type": "code",
   "execution_count": 26,
   "id": "3735e5a5",
   "metadata": {},
   "outputs": [
    {
     "data": {
      "text/plain": [
       "False    1649\n",
       "True       34\n",
       "Name: articleBody, dtype: int64"
      ]
     },
     "execution_count": 26,
     "metadata": {},
     "output_type": "execute_result"
    }
   ],
   "source": [
    "(reduction_df_train_xsum > 1.0).value_counts()"
   ]
  },
  {
   "cell_type": "code",
   "execution_count": 27,
   "id": "e5ff7049",
   "metadata": {},
   "outputs": [
    {
     "data": {
      "text/plain": [
       "False    1622\n",
       "True       61\n",
       "Name: articleBody, dtype: int64"
      ]
     },
     "execution_count": 27,
     "metadata": {},
     "output_type": "execute_result"
    }
   ],
   "source": [
    "(reduction_df_train_cnn_dailymail > 1.0).value_counts()"
   ]
  },
  {
   "cell_type": "code",
   "execution_count": 28,
   "id": "c1b88076",
   "metadata": {},
   "outputs": [
    {
     "data": {
      "text/plain": [
       "False    1622\n",
       "True       61\n",
       "Name: articleBody, dtype: int64"
      ]
     },
     "execution_count": 28,
     "metadata": {},
     "output_type": "execute_result"
    }
   ],
   "source": [
    "(reduction_df_train_newsroom > 1.0).value_counts()"
   ]
  },
  {
   "cell_type": "code",
   "execution_count": 29,
   "id": "e4d0fc61",
   "metadata": {},
   "outputs": [
    {
     "data": {
      "text/plain": [
       "False    1568\n",
       "True      115\n",
       "Name: articleBody, dtype: int64"
      ]
     },
     "execution_count": 29,
     "metadata": {},
     "output_type": "execute_result"
    }
   ],
   "source": [
    "(reduction_df_train_multi_news > 1.0).value_counts()"
   ]
  },
  {
   "cell_type": "code",
   "execution_count": 30,
   "id": "4ae89d38",
   "metadata": {},
   "outputs": [],
   "source": [
    "train_bodies_xsum[reduction_df_train_xsum > 1.0] = train_bodies[reduction_df_train_xsum > 1.0]\n",
    "train_bodies_cnn_dailymail[reduction_df_train_cnn_dailymail > 1.0] = train_bodies[reduction_df_train_cnn_dailymail > 1.0]\n",
    "train_bodies_newsroom[reduction_df_train_newsroom > 1.0] = train_bodies[reduction_df_train_newsroom > 1.0]\n",
    "train_bodies_multi_news[reduction_df_train_multi_news > 1.0] = train_bodies[reduction_df_train_multi_news > 1.0]"
   ]
  },
  {
   "cell_type": "code",
   "execution_count": 31,
   "id": "b1961f1b",
   "metadata": {},
   "outputs": [],
   "source": [
    "train_bodies_xsum.to_csv(\"train_bodies_xsum_cleaned\")\n",
    "train_bodies_cnn_dailymail.to_csv(\"train_bodies_cnn_dailymail_cleaned\")\n",
    "train_bodies_newsroom.to_csv(\"train_bodies_newsroom_cleaned\")\n",
    "train_bodies_multi_news.to_csv(\"train_bodies_multi_news_cleaned\")"
   ]
  },
  {
   "cell_type": "markdown",
   "id": "c4dd3e5f",
   "metadata": {},
   "source": [
    "## Test data"
   ]
  },
  {
   "cell_type": "code",
   "execution_count": 32,
   "id": "b53ae749",
   "metadata": {},
   "outputs": [
    {
     "name": "stderr",
     "output_type": "stream",
     "text": [
      "100%|████████████████████████████████████████| 904/904 [00:01<00:00, 769.71it/s]\n",
      "100%|██████████████████████████████████████| 904/904 [00:00<00:00, 14414.90it/s]\n",
      "100%|███████████████████████████████████████| 904/904 [00:00<00:00, 7245.34it/s]\n",
      "100%|███████████████████████████████████████| 904/904 [00:00<00:00, 4304.93it/s]\n",
      "100%|███████████████████████████████████████| 904/904 [00:00<00:00, 3083.97it/s]\n"
     ]
    }
   ],
   "source": [
    "count_df_test = count(test_bodies)\n",
    "count_df_test_xsum = count(test_bodies_xsum)\n",
    "count_df_test_cnn_dailymail = count(test_bodies_cnn_dailymail)\n",
    "count_df_test_newsroom = count(test_bodies_newsroom)\n",
    "count_df_test_multi_news = count(test_bodies_multi_news)"
   ]
  },
  {
   "cell_type": "code",
   "execution_count": 33,
   "id": "6d2ebe3e",
   "metadata": {},
   "outputs": [],
   "source": [
    "reduction_df_test_xsum = count_df_test_xsum / count_df_test\n",
    "reduction_df_test_cnn_dailymail = count_df_test_cnn_dailymail / count_df_test\n",
    "reduction_df_test_newsroom = count_df_test_newsroom / count_df_test\n",
    "reduction_df_test_multi_news = count_df_test_multi_news / count_df_test"
   ]
  },
  {
   "cell_type": "code",
   "execution_count": 34,
   "id": "4da25519",
   "metadata": {},
   "outputs": [
    {
     "data": {
      "text/plain": [
       "False    871\n",
       "True      33\n",
       "Name: articleBody, dtype: int64"
      ]
     },
     "execution_count": 34,
     "metadata": {},
     "output_type": "execute_result"
    }
   ],
   "source": [
    "(reduction_df_test_xsum > 1.0).value_counts()"
   ]
  },
  {
   "cell_type": "code",
   "execution_count": 35,
   "id": "733c2246",
   "metadata": {},
   "outputs": [
    {
     "data": {
      "text/plain": [
       "False    841\n",
       "True      63\n",
       "Name: articleBody, dtype: int64"
      ]
     },
     "execution_count": 35,
     "metadata": {},
     "output_type": "execute_result"
    }
   ],
   "source": [
    "(reduction_df_test_cnn_dailymail > 1.0).value_counts()"
   ]
  },
  {
   "cell_type": "code",
   "execution_count": 36,
   "id": "aa6bdc33",
   "metadata": {},
   "outputs": [
    {
     "data": {
      "text/plain": [
       "False    848\n",
       "True      56\n",
       "Name: articleBody, dtype: int64"
      ]
     },
     "execution_count": 36,
     "metadata": {},
     "output_type": "execute_result"
    }
   ],
   "source": [
    "(reduction_df_test_newsroom > 1.0).value_counts()"
   ]
  },
  {
   "cell_type": "code",
   "execution_count": 37,
   "id": "4852c7b1",
   "metadata": {},
   "outputs": [
    {
     "data": {
      "text/plain": [
       "False    813\n",
       "True      91\n",
       "Name: articleBody, dtype: int64"
      ]
     },
     "execution_count": 37,
     "metadata": {},
     "output_type": "execute_result"
    }
   ],
   "source": [
    "(reduction_df_test_multi_news > 1.0).value_counts()"
   ]
  },
  {
   "cell_type": "code",
   "execution_count": 38,
   "id": "78ac933b",
   "metadata": {},
   "outputs": [
    {
     "name": "stderr",
     "output_type": "stream",
     "text": [
      "/var/folders/rz/8k861z6j0_l46v42bkk8qf1m0000gn/T/ipykernel_1742/3855378099.py:1: UserWarning: Boolean Series key will be reindexed to match DataFrame index.\n",
      "  test_bodies_xsum[reduction_df_test_xsum > 1.0] = train_bodies[reduction_df_test_xsum > 1.0]\n"
     ]
    },
    {
     "ename": "IndexingError",
     "evalue": "Unalignable boolean Series provided as indexer (index of the boolean Series and of the indexed object do not match).",
     "output_type": "error",
     "traceback": [
      "\u001b[0;31m---------------------------------------------------------------------------\u001b[0m",
      "\u001b[0;31mIndexingError\u001b[0m                             Traceback (most recent call last)",
      "Input \u001b[0;32mIn [38]\u001b[0m, in \u001b[0;36m<cell line: 1>\u001b[0;34m()\u001b[0m\n\u001b[0;32m----> 1\u001b[0m test_bodies_xsum[reduction_df_test_xsum \u001b[38;5;241m>\u001b[39m \u001b[38;5;241m1.0\u001b[39m] \u001b[38;5;241m=\u001b[39m \u001b[43mtrain_bodies\u001b[49m\u001b[43m[\u001b[49m\u001b[43mreduction_df_test_xsum\u001b[49m\u001b[43m \u001b[49m\u001b[38;5;241;43m>\u001b[39;49m\u001b[43m \u001b[49m\u001b[38;5;241;43m1.0\u001b[39;49m\u001b[43m]\u001b[49m\n\u001b[1;32m      2\u001b[0m test_bodies_cnn_dailymail[reduction_df_test_cnn_dailymail \u001b[38;5;241m>\u001b[39m \u001b[38;5;241m1.0\u001b[39m] \u001b[38;5;241m=\u001b[39m train_bodies[reduction_df_test_cnn_dailymail \u001b[38;5;241m>\u001b[39m \u001b[38;5;241m1.0\u001b[39m]\n\u001b[1;32m      3\u001b[0m test_bodies_newsroom[reduction_df_test_newsroom \u001b[38;5;241m>\u001b[39m \u001b[38;5;241m1.0\u001b[39m] \u001b[38;5;241m=\u001b[39m train_bodies[reduction_df_test_newsroom \u001b[38;5;241m>\u001b[39m \u001b[38;5;241m1.0\u001b[39m]\n",
      "File \u001b[0;32m~/.pyenv/versions/3.9.10/envs/nlp/lib/python3.9/site-packages/pandas/core/frame.py:3496\u001b[0m, in \u001b[0;36mDataFrame.__getitem__\u001b[0;34m(self, key)\u001b[0m\n\u001b[1;32m   3494\u001b[0m \u001b[38;5;66;03m# Do we have a (boolean) 1d indexer?\u001b[39;00m\n\u001b[1;32m   3495\u001b[0m \u001b[38;5;28;01mif\u001b[39;00m com\u001b[38;5;241m.\u001b[39mis_bool_indexer(key):\n\u001b[0;32m-> 3496\u001b[0m     \u001b[38;5;28;01mreturn\u001b[39;00m \u001b[38;5;28;43mself\u001b[39;49m\u001b[38;5;241;43m.\u001b[39;49m\u001b[43m_getitem_bool_array\u001b[49m\u001b[43m(\u001b[49m\u001b[43mkey\u001b[49m\u001b[43m)\u001b[49m\n\u001b[1;32m   3498\u001b[0m \u001b[38;5;66;03m# We are left with two options: a single key, and a collection of keys,\u001b[39;00m\n\u001b[1;32m   3499\u001b[0m \u001b[38;5;66;03m# We interpret tuples as collections only for non-MultiIndex\u001b[39;00m\n\u001b[1;32m   3500\u001b[0m is_single_key \u001b[38;5;241m=\u001b[39m \u001b[38;5;28misinstance\u001b[39m(key, \u001b[38;5;28mtuple\u001b[39m) \u001b[38;5;129;01mor\u001b[39;00m \u001b[38;5;129;01mnot\u001b[39;00m is_list_like(key)\n",
      "File \u001b[0;32m~/.pyenv/versions/3.9.10/envs/nlp/lib/python3.9/site-packages/pandas/core/frame.py:3549\u001b[0m, in \u001b[0;36mDataFrame._getitem_bool_array\u001b[0;34m(self, key)\u001b[0m\n\u001b[1;32m   3543\u001b[0m     \u001b[38;5;28;01mraise\u001b[39;00m \u001b[38;5;167;01mValueError\u001b[39;00m(\n\u001b[1;32m   3544\u001b[0m         \u001b[38;5;124mf\u001b[39m\u001b[38;5;124m\"\u001b[39m\u001b[38;5;124mItem wrong length \u001b[39m\u001b[38;5;132;01m{\u001b[39;00m\u001b[38;5;28mlen\u001b[39m(key)\u001b[38;5;132;01m}\u001b[39;00m\u001b[38;5;124m instead of \u001b[39m\u001b[38;5;132;01m{\u001b[39;00m\u001b[38;5;28mlen\u001b[39m(\u001b[38;5;28mself\u001b[39m\u001b[38;5;241m.\u001b[39mindex)\u001b[38;5;132;01m}\u001b[39;00m\u001b[38;5;124m.\u001b[39m\u001b[38;5;124m\"\u001b[39m\n\u001b[1;32m   3545\u001b[0m     )\n\u001b[1;32m   3547\u001b[0m \u001b[38;5;66;03m# check_bool_indexer will throw exception if Series key cannot\u001b[39;00m\n\u001b[1;32m   3548\u001b[0m \u001b[38;5;66;03m# be reindexed to match DataFrame rows\u001b[39;00m\n\u001b[0;32m-> 3549\u001b[0m key \u001b[38;5;241m=\u001b[39m \u001b[43mcheck_bool_indexer\u001b[49m\u001b[43m(\u001b[49m\u001b[38;5;28;43mself\u001b[39;49m\u001b[38;5;241;43m.\u001b[39;49m\u001b[43mindex\u001b[49m\u001b[43m,\u001b[49m\u001b[43m \u001b[49m\u001b[43mkey\u001b[49m\u001b[43m)\u001b[49m\n\u001b[1;32m   3550\u001b[0m indexer \u001b[38;5;241m=\u001b[39m key\u001b[38;5;241m.\u001b[39mnonzero()[\u001b[38;5;241m0\u001b[39m]\n\u001b[1;32m   3551\u001b[0m \u001b[38;5;28;01mreturn\u001b[39;00m \u001b[38;5;28mself\u001b[39m\u001b[38;5;241m.\u001b[39m_take_with_is_copy(indexer, axis\u001b[38;5;241m=\u001b[39m\u001b[38;5;241m0\u001b[39m)\n",
      "File \u001b[0;32m~/.pyenv/versions/3.9.10/envs/nlp/lib/python3.9/site-packages/pandas/core/indexing.py:2376\u001b[0m, in \u001b[0;36mcheck_bool_indexer\u001b[0;34m(index, key)\u001b[0m\n\u001b[1;32m   2374\u001b[0m     mask \u001b[38;5;241m=\u001b[39m isna(result\u001b[38;5;241m.\u001b[39m_values)\n\u001b[1;32m   2375\u001b[0m     \u001b[38;5;28;01mif\u001b[39;00m mask\u001b[38;5;241m.\u001b[39many():\n\u001b[0;32m-> 2376\u001b[0m         \u001b[38;5;28;01mraise\u001b[39;00m IndexingError(\n\u001b[1;32m   2377\u001b[0m             \u001b[38;5;124m\"\u001b[39m\u001b[38;5;124mUnalignable boolean Series provided as \u001b[39m\u001b[38;5;124m\"\u001b[39m\n\u001b[1;32m   2378\u001b[0m             \u001b[38;5;124m\"\u001b[39m\u001b[38;5;124mindexer (index of the boolean Series and of \u001b[39m\u001b[38;5;124m\"\u001b[39m\n\u001b[1;32m   2379\u001b[0m             \u001b[38;5;124m\"\u001b[39m\u001b[38;5;124mthe indexed object do not match).\u001b[39m\u001b[38;5;124m\"\u001b[39m\n\u001b[1;32m   2380\u001b[0m         )\n\u001b[1;32m   2381\u001b[0m     \u001b[38;5;28;01mreturn\u001b[39;00m result\u001b[38;5;241m.\u001b[39mastype(\u001b[38;5;28mbool\u001b[39m)\u001b[38;5;241m.\u001b[39m_values\n\u001b[1;32m   2382\u001b[0m \u001b[38;5;28;01mif\u001b[39;00m is_object_dtype(key):\n\u001b[1;32m   2383\u001b[0m     \u001b[38;5;66;03m# key might be object-dtype bool, check_array_indexer needs bool array\u001b[39;00m\n",
      "\u001b[0;31mIndexingError\u001b[0m: Unalignable boolean Series provided as indexer (index of the boolean Series and of the indexed object do not match)."
     ]
    }
   ],
   "source": [
    "test_bodies_xsum[reduction_df_test_xsum > 1.0] = test_bodies[reduction_df_test_xsum > 1.0]\n",
    "test_bodies_cnn_dailymail[reduction_df_test_cnn_dailymail > 1.0] = test_bodies[reduction_df_test_cnn_dailymail > 1.0]\n",
    "test_bodies_newsroom[reduction_df_test_newsroom > 1.0] = test_bodies[reduction_df_test_newsroom > 1.0]\n",
    "test_bodies_multi_news[reduction_df_test_multi_news > 1.0] = train_bodies[reduction_df_test_multi_news > 1.0]"
   ]
  },
  {
   "cell_type": "code",
   "execution_count": null,
   "id": "75f0904b",
   "metadata": {},
   "outputs": [],
   "source": [
    "test_bodies_xsum.to_csv(\"test_bodies_xsum_cleaned\")\n",
    "test_bodies_cnn_dailymail.to_csv(\"test_bodies_cnn_dailymail_cleaned\")\n",
    "test_bodies_newsroom.to_csv(\"test_bodies_newsroom_cleaned\")\n",
    "test_bodies_multi_news.to_csv(\"test_bodies_multi_news_cleaned\")"
   ]
  },
  {
   "cell_type": "markdown",
   "id": "9eefe1f5",
   "metadata": {},
   "source": [
    "# Boxplot"
   ]
  },
  {
   "cell_type": "code",
   "execution_count": null,
   "id": "45d1f333",
   "metadata": {},
   "outputs": [],
   "source": [
    "count_df_test = count(test_bodies)\n",
    "count_df_test_xsum = count(test_bodies_xsum)\n",
    "count_df_test_cnn_dailymail = count(test_bodies_cnn_dailymail)\n",
    "count_df_test_newsroom = count(test_bodies_newsroom)\n",
    "count_df_test_multi_news = count(test_bodies_multi_news)"
   ]
  },
  {
   "cell_type": "code",
   "execution_count": null,
   "id": "3c82a612",
   "metadata": {},
   "outputs": [],
   "source": [
    "reduction_df_test_xsum = abs((count_df_test_xsum - count_df_test) / count_df_test)\n",
    "reduction_df_test_cnn_dailymail = abs((count_df_test_cnn_dailymail - count_df_test) / count_df_test)\n",
    "reduction_df_test_newsroom = abs((count_df_test_newsroom - count_df_test) / count_df_test)\n",
    "reduction_df_test_multi_news = abs((count_df_test_multi_news - count_df_test) / count_df_test)"
   ]
  },
  {
   "cell_type": "code",
   "execution_count": 11,
   "id": "32f0c012",
   "metadata": {},
   "outputs": [],
   "source": [
    "plt.rcParams[\"figure.dpi\"] = 300"
   ]
  },
  {
   "cell_type": "code",
   "execution_count": null,
   "id": "ff96adc7",
   "metadata": {},
   "outputs": [],
   "source": [
    "reduction_df_test_xsum.boxplot(\"bodyArticle\")"
   ]
  },
  {
   "cell_type": "code",
   "execution_count": null,
   "id": "6ba3f8b2",
   "metadata": {},
   "outputs": [],
   "source": [
    "reduction_df_test_cnn_dailymail.boxplot(\"bodyArticle\")"
   ]
  },
  {
   "cell_type": "code",
   "execution_count": null,
   "id": "9a8407a9",
   "metadata": {},
   "outputs": [],
   "source": [
    "count_df_test_newsroom.boxplot(\"bodyArticle\")"
   ]
  },
  {
   "cell_type": "code",
   "execution_count": null,
   "id": "0a9cb7d3",
   "metadata": {},
   "outputs": [],
   "source": [
    "count_df_test_multi_news.boxplot(\"bodyArticle\")"
   ]
  }
 ],
 "metadata": {
  "kernelspec": {
   "display_name": "Python 3 (ipykernel)",
   "language": "python",
   "name": "python3"
  },
  "language_info": {
   "codemirror_mode": {
    "name": "ipython",
    "version": 3
   },
   "file_extension": ".py",
   "mimetype": "text/x-python",
   "name": "python",
   "nbconvert_exporter": "python",
   "pygments_lexer": "ipython3",
   "version": "3.9.10"
  }
 },
 "nbformat": 4,
 "nbformat_minor": 5
}
