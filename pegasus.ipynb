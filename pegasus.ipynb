{
 "cells": [
  {
   "cell_type": "markdown",
   "id": "429480e5",
   "metadata": {},
   "source": [
    "# Install dependencies"
   ]
  },
  {
   "cell_type": "code",
   "execution_count": null,
   "id": "20f814c9",
   "metadata": {
    "scrolled": true
   },
   "outputs": [],
   "source": [
    "! pip install pandas transformers datasets scikit-learn simpletransformers torch tqdm"
   ]
  },
  {
   "cell_type": "markdown",
   "id": "ed2e44b9",
   "metadata": {},
   "source": [
    "# Initialize packages and data"
   ]
  },
  {
   "cell_type": "code",
   "execution_count": 1,
   "id": "8c8da150",
   "metadata": {},
   "outputs": [],
   "source": [
    "import pandas as pd\n",
    "import torch\n",
    "from transformers import PegasusForConditionalGeneration, PegasusTokenizer\n",
    "from tqdm import tqdm\n",
    "\n",
    "tqdm.pandas()\n",
    "\n",
    "train_stances = pd.read_csv('train_stances.csv', index_col=\"Body ID\")\n",
    "train_bodies = pd.read_csv('train_bodies.csv', index_col=\"Body ID\")\n",
    "test_stances = pd.read_csv('competition_test_stances.csv', index_col=\"Body ID\")\n",
    "test_bodies = pd.read_csv('competition_test_bodies.csv', index_col=\"Body ID\")"
   ]
  },
  {
   "cell_type": "markdown",
   "id": "453ae5ed",
   "metadata": {},
   "source": [
    "# Choose model"
   ]
  },
  {
   "cell_type": "code",
   "execution_count": 2,
   "id": "6ffdbb51",
   "metadata": {},
   "outputs": [],
   "source": [
    "# Decide on a model from this list\n",
    "# https://huggingface.co/models?search=pegasus\n",
    "model_name = \"google/pegasus-newsroom\""
   ]
  },
  {
   "cell_type": "markdown",
   "id": "031f5be0",
   "metadata": {},
   "source": [
    "# Initialize model"
   ]
  },
  {
   "cell_type": "code",
   "execution_count": 3,
   "id": "b802c517",
   "metadata": {},
   "outputs": [],
   "source": [
    "torch.set_num_threads(8)\n",
    "device = \"cuda\" if torch.cuda.is_available() else \"cpu\"\n",
    "tokenizer = PegasusTokenizer.from_pretrained(model_name)\n",
    "model = PegasusForConditionalGeneration.from_pretrained(model_name)\n",
    "\n",
    "def summarize(src_text):\n",
    "    batch = tokenizer(src_text, truncation=True, padding=\"longest\", return_tensors=\"pt\").to(device)\n",
    "    translated = model.generate(**batch)\n",
    "    tgt_text = tokenizer.batch_decode(translated, skip_special_tokens=True)\n",
    "    return tgt_text[0]"
   ]
  },
  {
   "cell_type": "markdown",
   "id": "6146b941",
   "metadata": {},
   "source": [
    "# Run model"
   ]
  },
  {
   "cell_type": "code",
   "execution_count": 4,
   "id": "0d7fe748",
   "metadata": {},
   "outputs": [
    {
     "name": "stderr",
     "output_type": "stream",
     "text": [
      "100%|█████████████████████████████████████| 1683/1683 [7:54:11<00:00, 16.91s/it]\n"
     ]
    }
   ],
   "source": [
    "train_bodies[\"articleBody\"] = train_bodies[\"articleBody\"].progress_apply(summarize)\n",
    "train_bodies.to_csv(f'train_bodies_{model_name.replace(\"/\",\"_\")}.csv')"
   ]
  },
  {
   "cell_type": "code",
   "execution_count": null,
   "id": "1a459546",
   "metadata": {},
   "outputs": [
    {
     "name": "stderr",
     "output_type": "stream",
     "text": [
      " 13%|█████▎                                 | 122/904 [32:05<3:29:12, 16.05s/it]"
     ]
    }
   ],
   "source": [
    "test_bodies[\"articleBody\"] = test_bodies[\"articleBody\"].progress_apply(summarize)\n",
    "test_bodies.to_csv(f'test_bodies_{model_name.replace(\"/\",\"_\")}.csv')"
   ]
  },
  {
   "cell_type": "code",
   "execution_count": null,
   "id": "725b7f71",
   "metadata": {},
   "outputs": [],
   "source": []
  }
 ],
 "metadata": {
  "kernelspec": {
   "display_name": "Python 3 (ipykernel)",
   "language": "python",
   "name": "python3"
  },
  "language_info": {
   "codemirror_mode": {
    "name": "ipython",
    "version": 3
   },
   "file_extension": ".py",
   "mimetype": "text/x-python",
   "name": "python",
   "nbconvert_exporter": "python",
   "pygments_lexer": "ipython3",
   "version": "3.9.10"
  }
 },
 "nbformat": 4,
 "nbformat_minor": 5
}
