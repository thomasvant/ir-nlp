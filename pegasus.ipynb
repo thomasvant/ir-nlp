{
 "cells": [
  {
   "cell_type": "markdown",
   "id": "33806174",
   "metadata": {},
   "source": [
    "# Install dependencies"
   ]
  },
  {
   "cell_type": "code",
   "execution_count": null,
   "id": "20f814c9",
   "metadata": {
    "scrolled": true
   },
   "outputs": [],
   "source": [
    "! pip install pandas transformers datasets scikit-learn simpletransformers torch tqdm"
   ]
  },
  {
   "cell_type": "markdown",
   "id": "bbd14f6f",
   "metadata": {},
   "source": [
    "# Initialize packages and data"
   ]
  },
  {
   "cell_type": "code",
   "execution_count": 53,
   "id": "8c8da150",
   "metadata": {},
   "outputs": [],
   "source": [
    "import pandas as pd\n",
    "import torch\n",
    "from transformers import PegasusForConditionalGeneration, PegasusTokenizer\n",
    "from tqdm import tqdm\n",
    "\n",
    "tqdm.pandas()\n",
    "\n",
    "train_stances = pd.read_csv('train_stances.csv', index_col=\"Body ID\")\n",
    "train_bodies = pd.read_csv('train_bodies.csv', index_col=\"Body ID\")\n",
    "test_stances = pd.read_csv('competition_test_stances.csv', index_col=\"Body ID\")\n",
    "test_bodies = pd.read_csv('competition_test_bodies.csv', index_col=\"Body ID\")"
   ]
  },
  {
   "cell_type": "markdown",
   "id": "572c8ed1",
   "metadata": {},
   "source": [
    "# Choose model"
   ]
  },
  {
   "cell_type": "code",
   "execution_count": null,
   "id": "997f9dc1",
   "metadata": {},
   "outputs": [],
   "source": [
    "# Decide on a model from this list\n",
    "# https://huggingface.co/models?search=pegasus\n",
    "model_name = \"google/pegasus-cnn_dailymail\""
   ]
  },
  {
   "cell_type": "markdown",
   "id": "1b95c374",
   "metadata": {},
   "source": [
    "# Initialize model"
   ]
  },
  {
   "cell_type": "code",
   "execution_count": null,
   "id": "74172822",
   "metadata": {},
   "outputs": [],
   "source": [
    "device = \"cuda\" if torch.cuda.is_available() else \"cpu\"\n",
    "tokenizer = PegasusTokenizer.from_pretrained(model_name)\n",
    "model = PegasusForConditionalGeneration.from_pretrained(model_name)\n",
    "\n",
    "def summarize(src_text):\n",
    "    batch = tokenizer(src_text, truncation=True, padding=\"longest\", return_tensors=\"pt\").to(device)\n",
    "    translated = model.generate(**batch)\n",
    "    tgt_text = tokenizer.batch_decode(translated, skip_special_tokens=True)\n",
    "    return tgt_text[0]"
   ]
  },
  {
   "cell_type": "markdown",
   "id": "ad4a81a3",
   "metadata": {},
   "source": [
    "# Run model"
   ]
  },
  {
   "cell_type": "code",
   "execution_count": null,
   "id": "a0b016a6",
   "metadata": {},
   "outputs": [],
   "source": [
    "train_bodies[\"articleBody\"] = train_bodies[\"articleBody\"].progress_apply(summarize)\n",
    "train_bodies.to_csv(f'train_bodies_{model_name.replace(\"/\",\"_\")}.csv')"
   ]
  },
  {
   "cell_type": "code",
   "execution_count": 38,
   "id": "6db52677",
   "metadata": {},
   "outputs": [
    {
     "name": "stderr",
     "output_type": "stream",
     "text": [
      "100%|███████████████████████████████████████| 904/904 [1:19:39<00:00,  5.29s/it]\n"
     ]
    }
   ],
   "source": [
    "test_bodies[\"articleBody\"] = test_bodies[\"articleBody\"].progress_apply(summarize)\n",
    "test_bodies.to_csv(f'test_bodies_{model_name.replace(\"/\",\"_\")}.csv')"
   ]
  }
 ],
 "metadata": {
  "kernelspec": {
   "display_name": "Python 3 (ipykernel)",
   "language": "python",
   "name": "python3"
  },
  "language_info": {
   "codemirror_mode": {
    "name": "ipython",
    "version": 3
   },
   "file_extension": ".py",
   "mimetype": "text/x-python",
   "name": "python",
   "nbconvert_exporter": "python",
   "pygments_lexer": "ipython3",
   "version": "3.9.10"
  }
 },
 "nbformat": 4,
 "nbformat_minor": 5
}
