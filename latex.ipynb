{
 "cells": [
  {
   "cell_type": "code",
   "execution_count": null,
   "id": "b02e5132",
   "metadata": {},
   "outputs": [],
   "source": [
    "! pip install pandas"
   ]
  },
  {
   "cell_type": "code",
   "execution_count": null,
   "id": "c2722d4d",
   "metadata": {},
   "outputs": [],
   "source": [
    "import pandas as pd\n",
    "\n",
    "train_stances = pd.read_csv('train_stances.csv', index_col=\"Body ID\")\n",
    "train_bodies = pd.read_csv('train_bodies.csv', index_col=\"Body ID\")\n",
    "\n",
    "test_stances = pd.read_csv('competition_test_stances.csv', index_col=\"Body ID\")\n",
    "test_bodies = pd.read_csv('competition_test_bodies.csv', index_col=\"Body ID\")"
   ]
  },
  {
   "cell_type": "code",
   "execution_count": null,
   "id": "f7866c3a",
   "metadata": {},
   "outputs": [],
   "source": [
    "# XSum\n",
    "train_bodies_xsum = pd.read_csv(f'train_bodies_google_pegasus-xsum.csv', index_col=\"Body ID\")\n",
    "test_bodies_xsum = pd.read_csv(f'test_bodies_google_pegasus-xsum.csv', index_col=\"Body ID\")\n",
    "\n",
    "# CNN/DailyNews\n",
    "train_bodies_cnn_dailymail = pd.read_csv(f'train_bodies_google_pegasus-cnn_dailymail.csv', index_col=\"Body ID\")\n",
    "test_bodies_cnn_dailymail = pd.read_csv(f'test_bodies_google_pegasus-cnn_dailymail.csv', index_col=\"Body ID\")\n",
    "\n",
    "# Newsroom\n",
    "# train_bodies_newsroom = pd.read_csv(f'train_bodies_google_pegasus-newsroom.csv', index_col=\"Body ID\")\n",
    "# test_bodies_newsroom = pd.read_csv(f'test_bodies_google_pegasus-newsroom.csv', index_col=\"Body ID\")\n",
    "\n",
    "# Multi-News\n",
    "# train_bodies_multi_news = pd.read_csv(f'train_bodies_google_pegasus-multi_news.csv', index_col=\"Body ID\")\n",
    "# test_bodies_multi_news = pd.read_csv(f'test_bodies_google_pegasus-multi_news.csv', index_col=\"Body ID\")"
   ]
  },
  {
   "cell_type": "code",
   "execution_count": null,
   "id": "e85963af",
   "metadata": {},
   "outputs": [],
   "source": [
    "train_bodies[\"XSum\"] = train_bodies_xsum[\"articleBody\"]\n",
    "train_bodies[\"CNN/DailyMail\"] = train_bodies_cnn_dailymail[\"articleBody\"]\n",
    "train_bodies[\"NEWSROOM\"] = train_bodies_cnn_newsroom[\"articleBody\"]\n",
    "train_bodies[\"Multi-News\"] = train_bodies_cnn_multi_news[\"articleBody\"]\n",
    "\n",
    "train_bodies.rename(columns={\"articleBody\":\"Original text\"}, inplace=True)"
   ]
  },
  {
   "cell_type": "code",
   "execution_count": null,
   "id": "f7c13e07",
   "metadata": {},
   "outputs": [],
   "source": [
    "docid = 0\n",
    "print(train_bodies.loc[[docid]].transpose().style.to_latex())"
   ]
  }
 ],
 "metadata": {
  "kernelspec": {
   "display_name": "Python 3 (ipykernel)",
   "language": "python",
   "name": "python3"
  },
  "language_info": {
   "codemirror_mode": {
    "name": "ipython",
    "version": 3
   },
   "file_extension": ".py",
   "mimetype": "text/x-python",
   "name": "python",
   "nbconvert_exporter": "python",
   "pygments_lexer": "ipython3",
   "version": "3.9.10"
  }
 },
 "nbformat": 4,
 "nbformat_minor": 5
}
